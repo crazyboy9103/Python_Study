{
 "cells": [
  {
   "cell_type": "code",
   "execution_count": 1,
   "id": "43d15afa-4b1f-402b-893e-402bf5a60d68",
   "metadata": {
    "tags": []
   },
   "outputs": [
    {
     "name": "stdout",
     "output_type": "stream",
     "text": [
      "3\n",
      "add 함수\n",
      "calc 함수\n"
     ]
    }
   ],
   "source": [
    "def add(a, b):\n",
    "    c = a + b    # add 함수가 끝나면 변수와 계산식은 사라짐\n",
    "    print(c)\n",
    "    print('add 함수')\n",
    " \n",
    "def calc():\n",
    "    add(1, 2)    # add 함수가 끝나면 다시 calc 함수로 돌아옴\n",
    "    print('calc 함수')\n",
    " \n",
    "calc()"
   ]
  },
  {
   "cell_type": "markdown",
   "id": "a9c7eb25-4255-41ea-9f2b-f9f8020b8f7b",
   "metadata": {},
   "source": [
    "* 메인 루틴은 ```calc```이고, 서브 루틴은 ```add```임\n",
    "    * 서브 루틴이 끝나면 서브 루틴의 내용은 모두 사라짐 - 메인 루틴에 종속된 서브 루틴"
   ]
  },
  {
   "cell_type": "code",
   "execution_count": 2,
   "id": "265e77b7-6dcf-453f-9a48-4e621efe870c",
   "metadata": {
    "tags": []
   },
   "outputs": [
    {
     "name": "stdout",
     "output_type": "stream",
     "text": [
      "1\n",
      "2\n",
      "3\n"
     ]
    }
   ],
   "source": [
    "def number_coroutine():\n",
    "    while True:        # 코루틴을 계속 유지하기 위해 무한 루프 사용\n",
    "        x = (yield)    # 코루틴 바깥에서 값을 받아옴, yield를 괄호로 묶어야 함\n",
    "        print(x)\n",
    " \n",
    "co = number_coroutine()\n",
    "next(co)      # 코루틴 안의 yield까지 코드 실행(최초 실행)\n",
    " \n",
    "co.send(1)    # 코루틴에 숫자 1을 보냄\n",
    "co.send(2)    # 코루틴에 숫자 2을 보냄\n",
    "co.send(3)    # 코루틴에 숫자 3을 보냄"
   ]
  },
  {
   "cell_type": "markdown",
   "id": "c326470f-e123-44d6-848a-d77f568fa523",
   "metadata": {},
   "source": [
    "* 코루틴의 경우 ```(yield)```로 값을 받아오고, ```.send()```로 값을 보내면서 실행\n",
    "    * 제너레이터와 코루틴의 차이\n",
    "        * 제너레이터는 ```__next__```로 반복 호출하여 ```StopIteration``` 까지 값을 얻어냄\n",
    "        * 코루틴은 ```__next__```를 한번 호출하고, ```.send()```로 값을 주고 받으면서 처리\n",
    "* 이러한 방법으로 여러 코루틴이 Concurrent하게 (parallel 아님) 실행됨\n",
    "* 그러므로 GIL이 활성화되어있는 파이썬에서는 One process, one thread이므로, 여러개의 코루틴을 실행시 스케줄링 오버헤드로 경우에 따라서는 성능이 더 떨어질 수 있음\n",
    "* 여러 코루틴을 실행하는데 Context switching이 일어나지 않음 "
   ]
  },
  {
   "cell_type": "code",
   "execution_count": 16,
   "id": "3698e073-1c36-48fd-ab6d-ce5ef1bd703c",
   "metadata": {
    "tags": []
   },
   "outputs": [],
   "source": [
    "def sum_coroutine():\n",
    "    total = 0\n",
    "    while True:\n",
    "        x = (yield total)    # 코루틴 바깥에서 값을 받아오면서 바깥으로 값을 전달\n",
    "        total += x\n",
    " \n",
    "co = sum_coroutine()"
   ]
  },
  {
   "cell_type": "code",
   "execution_count": 17,
   "id": "2da5d665-d030-4ace-a4ec-0aa43691e758",
   "metadata": {
    "tags": []
   },
   "outputs": [
    {
     "name": "stdout",
     "output_type": "stream",
     "text": [
      "0\n",
      "1\n",
      "3\n",
      "6\n"
     ]
    }
   ],
   "source": [
    "print(next(co))      # 코루틴 안에서 (yield total) 하면, 메인 루틴으로 결과를 돌려주고,\n",
    "                     # x = (yield total) 로 다음 전달받는 값을 기다림\n",
    "print(co.send(1))    # 1을 전달시, x에 저장하고, total += x를 계산후 다시 (yield total) 값을 돌려주고,\n",
    "                     # 다음 값을 대기\n",
    "print(co.send(2))    \n",
    "print(co.send(3))    "
   ]
  },
  {
   "cell_type": "markdown",
   "id": "45524391-ff57-492e-93bd-b6dc3811895d",
   "metadata": {},
   "source": [
    "* ```__await__()``` 메소드가 구현되어 있는 object를 awaitable object라고 함 \n",
    "    * 예로 Coroutine, Task, Futures"
   ]
  },
  {
   "cell_type": "code",
   "execution_count": 33,
   "id": "19ea3173-6be2-4f70-93ff-de5cbee66c11",
   "metadata": {
    "tags": []
   },
   "outputs": [
    {
     "name": "stdout",
     "output_type": "stream",
     "text": [
      "Time Elapsed : 0.8351677999999083 sec\n"
     ]
    }
   ],
   "source": [
    "import aiohttp\n",
    "import asyncio\n",
    "import time\n",
    "\n",
    "urls = ['https://jsonplaceholder.typicode.com/posts/{}'.format(id) for id in range(1, 101)]\n",
    "\n",
    "async def fetch(url):\n",
    "  async with aiohttp.ClientSession() as session:\n",
    "    async with session.get(url) as res:\n",
    "      assert res.status == 200\n",
    "      return await res.text()\n",
    "\n",
    "async def main():\n",
    "  await asyncio.gather(*[fetch(url) for url in urls])\n",
    "\n",
    "\n",
    "start = time.perf_counter()\n",
    "await asyncio.create_task(main())\n",
    "end = time.perf_counter()\n",
    "print ('Time Elapsed : {} sec'.format(end-start))"
   ]
  },
  {
   "cell_type": "code",
   "execution_count": 34,
   "id": "c08ab132-565c-4fb5-af7f-99812f258d25",
   "metadata": {
    "tags": []
   },
   "outputs": [
    {
     "name": "stdout",
     "output_type": "stream",
     "text": [
      "Time Elapsed : 4.274024199999985 sec\n"
     ]
    }
   ],
   "source": [
    "import requests\n",
    "def main():\n",
    "  with requests.Session() as client:\n",
    "    for url in urls:\n",
    "      res = client.get(url)\n",
    "      assert res.status_code == 200\n",
    "      yield res.text\n",
    "    \n",
    "start = time.perf_counter()\n",
    "for t in main():\n",
    "    pass\n",
    "end = time.perf_counter()\n",
    "print ('Time Elapsed : {} sec'.format(end-start))"
   ]
  }
 ],
 "metadata": {
  "kernelspec": {
   "display_name": "jupyter",
   "language": "python",
   "name": "jupyter"
  },
  "language_info": {
   "codemirror_mode": {
    "name": "ipython",
    "version": 3
   },
   "file_extension": ".py",
   "mimetype": "text/x-python",
   "name": "python",
   "nbconvert_exporter": "python",
   "pygments_lexer": "ipython3",
   "version": "3.9.13"
  }
 },
 "nbformat": 4,
 "nbformat_minor": 5
}
