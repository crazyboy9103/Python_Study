{
 "cells": [
  {
   "cell_type": "code",
   "execution_count": 29,
   "id": "5370cb63-0a35-4320-b031-6b1bc33a02c8",
   "metadata": {
    "tags": []
   },
   "outputs": [],
   "source": [
    "import time\n",
    "def timeit(func) :   # 호출할 함수를 매개변수로 받음\n",
    "    def wrapper(*args, **kwargs) :       \n",
    "        print(func.__name__, '함수 시작')   # __name__으로 함수 이름 출력\n",
    "        start = time.perf_counter()\n",
    "        func(*args, **kwargs)               # 매개변수로 받은 함수를 호출\n",
    "        end = time.perf_counter()\n",
    "        print(func.__name__, '함수 끝')\n",
    "        print(end - start, '초 걸림')\n",
    "    return wrapper\n"
   ]
  },
  {
   "cell_type": "code",
   "execution_count": 44,
   "id": "6a624278-440d-4214-b0db-6df48c5f63cf",
   "metadata": {
    "tags": []
   },
   "outputs": [],
   "source": [
    "@timeit\n",
    "def test(*args, **kwargs):\n",
    "    print(min(*args), \"부터\", max(*args), \"까지\")\n",
    "    print(*kwargs)\n",
    "    for i in range(min(*args), max(*args) + 1):\n",
    "        pass"
   ]
  },
  {
   "cell_type": "code",
   "execution_count": 47,
   "id": "6d7bc030-a3bb-4f3b-87b4-c266777bf9a6",
   "metadata": {
    "tags": []
   },
   "outputs": [
    {
     "name": "stdout",
     "output_type": "stream",
     "text": [
      "test 함수 시작\n",
      "0 부터 99999999 까지\n",
      "test test2\n",
      "test 함수 끝\n",
      "6.859424300000001 초 걸림\n"
     ]
    }
   ],
   "source": [
    "test(range(100_000_000), test=\"test\", test2=\"test2\")"
   ]
  }
 ],
 "metadata": {
  "kernelspec": {
   "display_name": "jupyter",
   "language": "python",
   "name": "jupyter"
  },
  "language_info": {
   "codemirror_mode": {
    "name": "ipython",
    "version": 3
   },
   "file_extension": ".py",
   "mimetype": "text/x-python",
   "name": "python",
   "nbconvert_exporter": "python",
   "pygments_lexer": "ipython3",
   "version": "3.9.13"
  }
 },
 "nbformat": 4,
 "nbformat_minor": 5
}
